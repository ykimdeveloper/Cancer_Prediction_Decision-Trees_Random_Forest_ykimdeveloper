{
 "cells": [
  {
   "cell_type": "markdown",
   "metadata": {
    "collapsed": true
   },
   "source": [
    "Yosep Kim <br>\n",
    "CS 5661 Homework1 <br>\n",
    "cin: 220612403"
   ]
  },
  {
   "cell_type": "code",
   "execution_count": 20,
   "metadata": {
    "collapsed": true
   },
   "outputs": [],
   "source": [
    "\n",
    "import numpy as np\n",
    "import pandas as pd\n",
    "\n",
    "file = '/home/cowboyuniverse/Workspace/_2018_Spring_CS5661/HW1/Cancer_small.csv'\n",
    "\n",
    "cancer_data_df = pd.read_csv(file)\n"
   ]
  },
  {
   "cell_type": "markdown",
   "metadata": {},
   "source": [
    "<b>a- Read the dataset file “Cancer.csv” (you should download it from CSNS), and store it in a\n",
    "Pandas DataFrame. Check out the dataset. As you see, the dataset includes 9 numerical\n",
    "features. The last column is the binary label (“1” means it is a malignant cancer, “0” means\n",
    "it is a benign tumor). You will use all 9 features in this homework.</b>"
   ]
  },
  {
   "cell_type": "code",
   "execution_count": 21,
   "metadata": {},
   "outputs": [
    {
     "data": {
      "text/html": [
       "<div>\n",
       "<style>\n",
       "    .dataframe thead tr:only-child th {\n",
       "        text-align: right;\n",
       "    }\n",
       "\n",
       "    .dataframe thead th {\n",
       "        text-align: left;\n",
       "    }\n",
       "\n",
       "    .dataframe tbody tr th {\n",
       "        vertical-align: top;\n",
       "    }\n",
       "</style>\n",
       "<table border=\"1\" class=\"dataframe\">\n",
       "  <thead>\n",
       "    <tr style=\"text-align: right;\">\n",
       "      <th></th>\n",
       "      <th>Clump_Thickness</th>\n",
       "      <th>Uniformity_of_Cell_Size</th>\n",
       "      <th>Uniformity_of_Cell_Shape</th>\n",
       "      <th>Marginal_Adhesion</th>\n",
       "      <th>Single_Epithelial_Cell_Size</th>\n",
       "      <th>Bare_Nuclei</th>\n",
       "      <th>Bland_Chromatin</th>\n",
       "      <th>Normal_Nucleoli</th>\n",
       "      <th>Mitoses</th>\n",
       "      <th>Malignant_Cancer</th>\n",
       "    </tr>\n",
       "  </thead>\n",
       "  <tbody>\n",
       "    <tr>\n",
       "      <th>145</th>\n",
       "      <td>3</td>\n",
       "      <td>1</td>\n",
       "      <td>1</td>\n",
       "      <td>1</td>\n",
       "      <td>2</td>\n",
       "      <td>1</td>\n",
       "      <td>2</td>\n",
       "      <td>1</td>\n",
       "      <td>1</td>\n",
       "      <td>0</td>\n",
       "    </tr>\n",
       "    <tr>\n",
       "      <th>146</th>\n",
       "      <td>9</td>\n",
       "      <td>7</td>\n",
       "      <td>7</td>\n",
       "      <td>5</td>\n",
       "      <td>5</td>\n",
       "      <td>10</td>\n",
       "      <td>7</td>\n",
       "      <td>8</td>\n",
       "      <td>3</td>\n",
       "      <td>1</td>\n",
       "    </tr>\n",
       "    <tr>\n",
       "      <th>147</th>\n",
       "      <td>10</td>\n",
       "      <td>8</td>\n",
       "      <td>8</td>\n",
       "      <td>4</td>\n",
       "      <td>10</td>\n",
       "      <td>10</td>\n",
       "      <td>8</td>\n",
       "      <td>1</td>\n",
       "      <td>1</td>\n",
       "      <td>1</td>\n",
       "    </tr>\n",
       "    <tr>\n",
       "      <th>148</th>\n",
       "      <td>1</td>\n",
       "      <td>1</td>\n",
       "      <td>1</td>\n",
       "      <td>1</td>\n",
       "      <td>2</td>\n",
       "      <td>1</td>\n",
       "      <td>3</td>\n",
       "      <td>1</td>\n",
       "      <td>1</td>\n",
       "      <td>0</td>\n",
       "    </tr>\n",
       "    <tr>\n",
       "      <th>149</th>\n",
       "      <td>5</td>\n",
       "      <td>1</td>\n",
       "      <td>1</td>\n",
       "      <td>1</td>\n",
       "      <td>2</td>\n",
       "      <td>1</td>\n",
       "      <td>3</td>\n",
       "      <td>1</td>\n",
       "      <td>1</td>\n",
       "      <td>0</td>\n",
       "    </tr>\n",
       "  </tbody>\n",
       "</table>\n",
       "</div>"
      ],
      "text/plain": [
       "     Clump_Thickness  Uniformity_of_Cell_Size  Uniformity_of_Cell_Shape  \\\n",
       "145                3                        1                         1   \n",
       "146                9                        7                         7   \n",
       "147               10                        8                         8   \n",
       "148                1                        1                         1   \n",
       "149                5                        1                         1   \n",
       "\n",
       "     Marginal_Adhesion  Single_Epithelial_Cell_Size  Bare_Nuclei  \\\n",
       "145                  1                            2            1   \n",
       "146                  5                            5           10   \n",
       "147                  4                           10           10   \n",
       "148                  1                            2            1   \n",
       "149                  1                            2            1   \n",
       "\n",
       "     Bland_Chromatin  Normal_Nucleoli  Mitoses  Malignant_Cancer  \n",
       "145                2                1        1                 0  \n",
       "146                7                8        3                 1  \n",
       "147                8                1        1                 1  \n",
       "148                3                1        1                 0  \n",
       "149                3                1        1                 0  "
      ]
     },
     "execution_count": 21,
     "metadata": {},
     "output_type": "execute_result"
    }
   ],
   "source": [
    "cancer_data_df.tail()"
   ]
  },
  {
   "cell_type": "code",
   "execution_count": 22,
   "metadata": {
    "collapsed": true
   },
   "outputs": [],
   "source": [
    "cols = cancer_data_df.columns \n",
    "features = cols[:len(cols)-1] \n",
    "y_columns = cols[len(cols)-1]\n",
    "\n",
    "X = cancer_data_df[features]  \n",
    "y = cancer_data_df[y_columns]\n"
   ]
  },
  {
   "cell_type": "markdown",
   "metadata": {},
   "source": [
    "<b>b- Use sklearn functions (see class tutorials for details) to split the dataset into testing and\n",
    "training sets with the following parameters: test_size=0.3, random_state=2.\n",
    "</b>"
   ]
  },
  {
   "cell_type": "code",
   "execution_count": 23,
   "metadata": {},
   "outputs": [
    {
     "name": "stdout",
     "output_type": "stream",
     "text": [
      "(150, 9)\n",
      "(150,)\n"
     ]
    }
   ],
   "source": [
    "from sklearn.model_selection import train_test_split\n",
    "from sklearn.metrics import accuracy_score\n",
    "from sklearn.model_selection import cross_val_score\n",
    "\n",
    "#split Data\n",
    "X_train, X_test, y_train, y_test = train_test_split(X, y, test_size=0.3, random_state=2)\n",
    "\n",
    "print(X.shape)\n",
    "print(y.shape)"
   ]
  },
  {
   "cell_type": "markdown",
   "metadata": {},
   "source": [
    "<b>\n",
    "c- Use “Decision Tree Classifier” to predict Cancer based on the training/testing datasets\n",
    "that you built in part (b). Then, calculate and report the accuracy of your classifier. Use\n",
    "this command to define your tree:\n",
    "my_DecisionTree = DecisionTreeClassifier(random_state=2).</b>"
   ]
  },
  {
   "cell_type": "code",
   "execution_count": 24,
   "metadata": {
    "collapsed": true,
    "scrolled": true
   },
   "outputs": [],
   "source": [
    "#  DecisionTreeClassifier is name of a \"sklearn class\" to perform \"Decision Tree Classification\" \n",
    "\n",
    "from sklearn.tree import DecisionTreeClassifier\n",
    "my_DecisionTree = DecisionTreeClassifier(random_state=2)\n",
    "my_DecisionTree.fit(X_train, y_train)\n",
    "decisiontree_y_predict = my_DecisionTree.predict(X_test)"
   ]
  },
  {
   "cell_type": "code",
   "execution_count": 25,
   "metadata": {},
   "outputs": [
    {
     "name": "stdout",
     "output_type": "stream",
     "text": [
      "Decisiontree Accuracy: 0.866666666667\n",
      "DecisionTree accuracy with cross validation: 0.894702380952\n"
     ]
    }
   ],
   "source": [
    "\n",
    "decisiontree_accuracy = accuracy_score(y_test, decisiontree_y_predict)\n",
    "print('Decisiontree Accuracy:', decisiontree_accuracy)\n",
    "my_DecisionTree_list = cross_val_score(my_DecisionTree, X, y, cv=10, scoring='accuracy')\n",
    "\n",
    "my_DecisionTree_cv = my_DecisionTree_list.mean()\n",
    "print('DecisionTree accuracy with cross validation:',my_DecisionTree_cv)\n"
   ]
  },
  {
   "cell_type": "markdown",
   "metadata": {},
   "source": [
    "<b>d- Now, we want to perform “Bagging” based on 19 “base decision tree classifiers”. Note: you should write your own code to perform Bagging (don’t use scikit-learn functions for Bagging!) To do so, you need to perform bootstrapping first. You can write a “for” loop with loop variable i=0…18. In each iteration of the loop, you have to:\n",
    "\n",
    "make a bootstarp sample of the original “Training” Dataset (build in part(b)) with size of bootstarp_size = 0.8*(Size of the original dataset). You can use the following command to generate a random bootstrap dataset (“i\" is the variable of the loop, so the random_state changes in each iteration): resample(X_train, n_samples = bootstarp_size , random_state=i , replace = True)\n",
    "Define and train a new base decision tree classifier on this dataset in each iteration: Base_DecisionTree = DecisionTreeClassifier(random_state=2).\n",
    "Test “this base classifier” on the original “Testing” Dataset build in part(b), and save the prediction results for all testing samples.\n",
    "Perform Voting to make the final decision on each data sample based on the votes of all 19 classifiers. Finally, calculate and report the accuracy of your Bagging method..</b>"
   ]
  },
  {
   "cell_type": "code",
   "execution_count": 26,
   "metadata": {
    "collapsed": true
   },
   "outputs": [],
   "source": [
    "from sklearn.utils import resample\n",
    "sample_size_data = int(0.8*(len(cancer_data_df)))\n",
    "\n",
    "list_array = []\n",
    "i = 0\n",
    "flag = True\n",
    "\n",
    "while(flag):\n",
    "    _x_train = resample(X_train, n_samples = sample_size_data, random_state=i, replace=True)\n",
    "    _y_train = resample(y_train, n_samples = sample_size_data, random_state=i, replace=True)\n",
    "    Base_DecisionTree = DecisionTreeClassifier(random_state=2)\n",
    "    Base_DecisionTree.fit(_x_train, _y_train)\n",
    "    bag_predict = Base_DecisionTree.predict(X_test)\n",
    "    list_array.append(bag_predict)\n",
    "    i = i+1\n",
    "    if i is 19:\n",
    "        flag = False\n"
   ]
  },
  {
   "cell_type": "code",
   "execution_count": 27,
   "metadata": {},
   "outputs": [
    {
     "name": "stdout",
     "output_type": "stream",
     "text": [
      "(45, 19)\n"
     ]
    },
    {
     "data": {
      "text/html": [
       "<div>\n",
       "<style>\n",
       "    .dataframe thead tr:only-child th {\n",
       "        text-align: right;\n",
       "    }\n",
       "\n",
       "    .dataframe thead th {\n",
       "        text-align: left;\n",
       "    }\n",
       "\n",
       "    .dataframe tbody tr th {\n",
       "        vertical-align: top;\n",
       "    }\n",
       "</style>\n",
       "<table border=\"1\" class=\"dataframe\">\n",
       "  <thead>\n",
       "    <tr style=\"text-align: right;\">\n",
       "      <th></th>\n",
       "      <th>classifiers_0</th>\n",
       "      <th>classifiers_1</th>\n",
       "      <th>classifiers_2</th>\n",
       "      <th>classifiers_3</th>\n",
       "      <th>classifiers_4</th>\n",
       "      <th>classifiers_5</th>\n",
       "      <th>classifiers_6</th>\n",
       "      <th>classifiers_7</th>\n",
       "      <th>classifiers_8</th>\n",
       "      <th>classifiers_9</th>\n",
       "      <th>classifiers_10</th>\n",
       "      <th>classifiers_11</th>\n",
       "      <th>classifiers_12</th>\n",
       "      <th>classifiers_13</th>\n",
       "      <th>classifiers_14</th>\n",
       "      <th>classifiers_15</th>\n",
       "      <th>classifiers_16</th>\n",
       "      <th>classifiers_17</th>\n",
       "      <th>classifiers_18</th>\n",
       "    </tr>\n",
       "  </thead>\n",
       "  <tbody>\n",
       "    <tr>\n",
       "      <th>40</th>\n",
       "      <td>1</td>\n",
       "      <td>1</td>\n",
       "      <td>1</td>\n",
       "      <td>1</td>\n",
       "      <td>1</td>\n",
       "      <td>1</td>\n",
       "      <td>1</td>\n",
       "      <td>1</td>\n",
       "      <td>1</td>\n",
       "      <td>1</td>\n",
       "      <td>1</td>\n",
       "      <td>1</td>\n",
       "      <td>1</td>\n",
       "      <td>1</td>\n",
       "      <td>1</td>\n",
       "      <td>1</td>\n",
       "      <td>1</td>\n",
       "      <td>1</td>\n",
       "      <td>1</td>\n",
       "    </tr>\n",
       "    <tr>\n",
       "      <th>41</th>\n",
       "      <td>1</td>\n",
       "      <td>1</td>\n",
       "      <td>1</td>\n",
       "      <td>1</td>\n",
       "      <td>1</td>\n",
       "      <td>1</td>\n",
       "      <td>1</td>\n",
       "      <td>1</td>\n",
       "      <td>1</td>\n",
       "      <td>1</td>\n",
       "      <td>1</td>\n",
       "      <td>1</td>\n",
       "      <td>1</td>\n",
       "      <td>1</td>\n",
       "      <td>1</td>\n",
       "      <td>1</td>\n",
       "      <td>1</td>\n",
       "      <td>1</td>\n",
       "      <td>1</td>\n",
       "    </tr>\n",
       "    <tr>\n",
       "      <th>42</th>\n",
       "      <td>0</td>\n",
       "      <td>0</td>\n",
       "      <td>0</td>\n",
       "      <td>0</td>\n",
       "      <td>0</td>\n",
       "      <td>0</td>\n",
       "      <td>0</td>\n",
       "      <td>0</td>\n",
       "      <td>1</td>\n",
       "      <td>0</td>\n",
       "      <td>0</td>\n",
       "      <td>0</td>\n",
       "      <td>0</td>\n",
       "      <td>1</td>\n",
       "      <td>0</td>\n",
       "      <td>0</td>\n",
       "      <td>0</td>\n",
       "      <td>0</td>\n",
       "      <td>0</td>\n",
       "    </tr>\n",
       "    <tr>\n",
       "      <th>43</th>\n",
       "      <td>1</td>\n",
       "      <td>1</td>\n",
       "      <td>1</td>\n",
       "      <td>1</td>\n",
       "      <td>1</td>\n",
       "      <td>1</td>\n",
       "      <td>1</td>\n",
       "      <td>1</td>\n",
       "      <td>1</td>\n",
       "      <td>1</td>\n",
       "      <td>1</td>\n",
       "      <td>1</td>\n",
       "      <td>1</td>\n",
       "      <td>1</td>\n",
       "      <td>1</td>\n",
       "      <td>1</td>\n",
       "      <td>1</td>\n",
       "      <td>1</td>\n",
       "      <td>1</td>\n",
       "    </tr>\n",
       "    <tr>\n",
       "      <th>44</th>\n",
       "      <td>1</td>\n",
       "      <td>1</td>\n",
       "      <td>1</td>\n",
       "      <td>1</td>\n",
       "      <td>1</td>\n",
       "      <td>1</td>\n",
       "      <td>1</td>\n",
       "      <td>1</td>\n",
       "      <td>1</td>\n",
       "      <td>1</td>\n",
       "      <td>1</td>\n",
       "      <td>1</td>\n",
       "      <td>1</td>\n",
       "      <td>1</td>\n",
       "      <td>1</td>\n",
       "      <td>1</td>\n",
       "      <td>1</td>\n",
       "      <td>1</td>\n",
       "      <td>1</td>\n",
       "    </tr>\n",
       "  </tbody>\n",
       "</table>\n",
       "</div>"
      ],
      "text/plain": [
       "    classifiers_0  classifiers_1  classifiers_2  classifiers_3  classifiers_4  \\\n",
       "40              1              1              1              1              1   \n",
       "41              1              1              1              1              1   \n",
       "42              0              0              0              0              0   \n",
       "43              1              1              1              1              1   \n",
       "44              1              1              1              1              1   \n",
       "\n",
       "    classifiers_5  classifiers_6  classifiers_7  classifiers_8  classifiers_9  \\\n",
       "40              1              1              1              1              1   \n",
       "41              1              1              1              1              1   \n",
       "42              0              0              0              1              0   \n",
       "43              1              1              1              1              1   \n",
       "44              1              1              1              1              1   \n",
       "\n",
       "    classifiers_10  classifiers_11  classifiers_12  classifiers_13  \\\n",
       "40               1               1               1               1   \n",
       "41               1               1               1               1   \n",
       "42               0               0               0               1   \n",
       "43               1               1               1               1   \n",
       "44               1               1               1               1   \n",
       "\n",
       "    classifiers_14  classifiers_15  classifiers_16  classifiers_17  \\\n",
       "40               1               1               1               1   \n",
       "41               1               1               1               1   \n",
       "42               0               0               0               0   \n",
       "43               1               1               1               1   \n",
       "44               1               1               1               1   \n",
       "\n",
       "    classifiers_18  \n",
       "40               1  \n",
       "41               1  \n",
       "42               0  \n",
       "43               1  \n",
       "44               1  "
      ]
     },
     "execution_count": 27,
     "metadata": {},
     "output_type": "execute_result"
    }
   ],
   "source": [
    "num = -1\n",
    "prediction_df = pd.DataFrame()\n",
    "listOfTest = []\n",
    "for item in (list_array):\n",
    "    num = num+1\n",
    "    prediction_df['classifiers_'+ str(num)] = item\n",
    "    listOfTest.append(item)\n",
    "print(prediction_df.shape)\n",
    "prediction_df.tail()"
   ]
  },
  {
   "cell_type": "code",
   "execution_count": 28,
   "metadata": {},
   "outputs": [
    {
     "name": "stdout",
     "output_type": "stream",
     "text": [
      "Bagging Accuracy:  0.822222222222\n"
     ]
    }
   ],
   "source": [
    "####VOTING\n",
    "\n",
    "vote_templist =  np.zeros((len(prediction_df),), dtype=int)\n",
    "for i in range(len(prediction_df)):\n",
    "    voting_zeroes = 0\n",
    "    voting_ones = 0\n",
    "    for j in range(len(prediction_df.columns)):\n",
    "        if listOfTest[j][i] == 1:\n",
    "            voting_ones = voting_ones + 1\n",
    "        else:\n",
    "            voting_zeroes = voting_zeroes + 1\n",
    "    if voting_zeroes > voting_ones:\n",
    "        vote_templist[i] = 0\n",
    "    else:\n",
    "        vote_templist[i] = 1\n",
    "\n",
    "bag_accuracy = accuracy_score(y_test, vote_templist)\n",
    "print(\"Bagging Accuracy: \",bag_accuracy)\n"
   ]
  },
  {
   "cell_type": "markdown",
   "metadata": {},
   "source": [
    "<b>e- Use scikit-learn “Adaboost” classifier to predict Cancer based on the training/testing\n",
    "datasets that you built in part (b). Then, calculate and report the accuracy of your\n",
    "classifier. Use this command to import and define your classifier:\n",
    "from sklearn.ensemble import AdaBoostClassifier\n",
    "my_AdaBoost = AdaBoostClassifier(n_estimators = 19,random_state=2)</b>"
   ]
  },
  {
   "cell_type": "code",
   "execution_count": 33,
   "metadata": {},
   "outputs": [
    {
     "name": "stdout",
     "output_type": "stream",
     "text": [
      "AdaBoost: 0.933333333333\n",
      "AdaBoost accuracy with cross validation: 0.929464285714\n"
     ]
    }
   ],
   "source": [
    "from sklearn.ensemble import AdaBoostClassifier\n",
    "\n",
    "my_AdaBoost = AdaBoostClassifier(n_estimators = 19,random_state=2)\n",
    "my_AdaBoost.fit(X_train, y_train)\n",
    "my_AdaBoost_y_predict = my_AdaBoost.predict(X_test)\n",
    "my_AdaBoost_accuracy = accuracy_score(y_test, my_AdaBoost_y_predict)\n",
    "print('AdaBoost:', my_AdaBoost_accuracy)\n",
    "\n",
    "my_AdaBoost_list = cross_val_score(my_AdaBoost, X, y, cv=10, scoring='accuracy')\n",
    "my_AdaBoost_cv = my_AdaBoost_list.mean()\n",
    "print('AdaBoost accuracy with cross validation:',my_AdaBoost_cv)\n"
   ]
  },
  {
   "cell_type": "markdown",
   "metadata": {},
   "source": [
    "<b>f- Use scikit-learn “Random Forest” classifier to predict Cancer based on the training/testing\n",
    "datasets that you built in part (b). Then, calculate and report the accuracy of your\n",
    "classifier. Use this command to import and define your classifier:\n",
    "from sklearn.ensemble import RandomForestClassifier\n",
    "my_RandomForest =\n",
    "RandomForestClassifier(n_estimators = 19, bootstrap = True, random_state=2)</b>"
   ]
  },
  {
   "cell_type": "code",
   "execution_count": 30,
   "metadata": {
    "collapsed": true
   },
   "outputs": [],
   "source": [
    "from sklearn.ensemble import RandomForestClassifier \n",
    "my_RandomForest = RandomForestClassifier(n_estimators = 19, bootstrap = True, random_state=2)"
   ]
  },
  {
   "cell_type": "code",
   "execution_count": 32,
   "metadata": {},
   "outputs": [
    {
     "name": "stdout",
     "output_type": "stream",
     "text": [
      "\n",
      "Accuracy Random Forest:  0.955555555556\n",
      "RandomForest accuracy with cross validation: 0.929464285714\n"
     ]
    }
   ],
   "source": [
    "my_RandomForest.fit(X_train, y_train)\n",
    "y_predict = my_RandomForest.predict(X_test)\n",
    "my_RandomForestAccuracy = accuracy_score(y_test, y_predict)\n",
    "print(\"\\nAccuracy Random Forest: \", my_RandomForestAccuracy)\n",
    "\n",
    "randomForest_list = cross_val_score(my_AdaBoost, X, y, cv=10, scoring='accuracy')\n",
    "my_RandomForest_cv = randomForest_list.mean()\n",
    "print('RandomForest accuracy with cross validation:',my_RandomForest_cv)\n"
   ]
  },
  {
   "cell_type": "code",
   "execution_count": null,
   "metadata": {
    "collapsed": true
   },
   "outputs": [],
   "source": []
  }
 ],
 "metadata": {
  "kernelspec": {
   "display_name": "Python 3",
   "language": "python",
   "name": "python3"
  },
  "language_info": {
   "codemirror_mode": {
    "name": "ipython",
    "version": 3
   },
   "file_extension": ".py",
   "mimetype": "text/x-python",
   "name": "python",
   "nbconvert_exporter": "python",
   "pygments_lexer": "ipython3",
   "version": "3.6.2"
  }
 },
 "nbformat": 4,
 "nbformat_minor": 2
}
